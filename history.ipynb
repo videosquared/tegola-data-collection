{
 "cells": [
  {
   "cell_type": "code",
   "execution_count": 54,
   "metadata": {
    "collapsed": true
   },
   "outputs": [],
   "source": [
    "import requests\n",
    "import configparser\n",
    "import time\n",
    "import json"
   ]
  },
  {
   "cell_type": "code",
   "execution_count": 55,
   "outputs": [],
   "source": [
    "MINUTE = 60\n",
    "HOUR = 3600\n",
    "DAY = 86400\n",
    "\n",
    "CONFIG = configparser.ConfigParser()\n",
    "CONFIG.read_file(open(r'config.ini'))\n",
    "id_file = open(\"hosts.json\")\n",
    "ITEM_IDS = json.load(id_file)\n",
    "id_file.close()\n",
    "\n",
    "\n",
    "data = {\n",
    "    \"jsonrpc\": \"2.0\",\n",
    "    \"method\": \"user.login\",\n",
    "    \"params\": {\n",
    "        \"user\": CONFIG.get(\"credentials\", \"username\"),\n",
    "        \"password\": CONFIG.get(\"credentials\", \"password\")\n",
    "    },\n",
    "    \"id\": 1,\n",
    "    \"auth\": None\n",
    "}\n",
    "\n",
    "request = requests.post(CONFIG.get(\"config\", \"api_url\"), json=data)\n",
    "AUTH_TOKEN = request.json()[\"result\"]"
   ],
   "metadata": {
    "collapsed": false,
    "pycharm": {
     "name": "#%%\n"
    }
   }
  },
  {
   "cell_type": "code",
   "execution_count": 56,
   "outputs": [
    {
     "name": "stdout",
     "output_type": "stream",
     "text": [
      "30\n"
     ]
    },
    {
     "data": {
      "text/plain": "{'jsonrpc': '2.0',\n 'result': [{'itemid': '48811', 'clock': '1674608400', 'value_avg': '7442'},\n  {'itemid': '48811', 'clock': '1674612000', 'value_avg': '7334'},\n  {'itemid': '48811', 'clock': '1674615600', 'value_avg': '7530'},\n  {'itemid': '48811', 'clock': '1674619200', 'value_avg': '7582'},\n  {'itemid': '48811', 'clock': '1674622800', 'value_avg': '7360'},\n  {'itemid': '48811', 'clock': '1674626400', 'value_avg': '7536'},\n  {'itemid': '48811', 'clock': '1674630000', 'value_avg': '7361'},\n  {'itemid': '48811', 'clock': '1674633600', 'value_avg': '7536'},\n  {'itemid': '48811', 'clock': '1674637200', 'value_avg': '7352'},\n  {'itemid': '48811', 'clock': '1674640800', 'value_avg': '7542'},\n  {'itemid': '48811', 'clock': '1674644400', 'value_avg': '7338'},\n  {'itemid': '48811', 'clock': '1674648000', 'value_avg': '7537'},\n  {'itemid': '48811', 'clock': '1674651600', 'value_avg': '7463'},\n  {'itemid': '48811', 'clock': '1674655200', 'value_avg': '7377'},\n  {'itemid': '48811', 'clock': '1674658800', 'value_avg': '7552'},\n  {'itemid': '48811', 'clock': '1674662400', 'value_avg': '7325'},\n  {'itemid': '48811', 'clock': '1674666000', 'value_avg': '7557'},\n  {'itemid': '48811', 'clock': '1674669600', 'value_avg': '7364'},\n  {'itemid': '48811', 'clock': '1674673200', 'value_avg': '7478'},\n  {'itemid': '48811', 'clock': '1674676800', 'value_avg': '7295'},\n  {'itemid': '48811', 'clock': '1674680400', 'value_avg': '7514'},\n  {'itemid': '48811', 'clock': '1674684000', 'value_avg': '7511'},\n  {'itemid': '48811', 'clock': '1674687600', 'value_avg': '7382'},\n  {'itemid': '48811', 'clock': '1674691200', 'value_avg': '7532'},\n  {'itemid': '48811', 'clock': '1674694800', 'value_avg': '7355'},\n  {'itemid': '48811', 'clock': '1674698400', 'value_avg': '7536'},\n  {'itemid': '48811', 'clock': '1674702000', 'value_avg': '7339'},\n  {'itemid': '48811', 'clock': '1674705600', 'value_avg': '7595'},\n  {'itemid': '48811', 'clock': '1674709200', 'value_avg': '7344'},\n  {'itemid': '48811', 'clock': '1674712800', 'value_avg': '7522'}],\n 'id': 1}"
     },
     "execution_count": 56,
     "metadata": {},
     "output_type": "execute_result"
    }
   ],
   "source": [
    "\n",
    "t = int(time.time())\n",
    "\n",
    "data = {\n",
    "    \"jsonrpc\": \"2.0\",\n",
    "    \"method\": \"trend.get\",\n",
    "    \"params\": {\n",
    "        \"time_from\": t - 9*DAY,\n",
    "        \"time_till\": t,\n",
    "        \"itemids\": \"48811\",\n",
    "        \"sortfield\": \"clock\",\n",
    "        \"sortorder\": \"ASC\",\n",
    "        \"output\": [\n",
    "            \"itemid\",\n",
    "            \"clock\",\n",
    "            \"value_avg\"\n",
    "        ],\n",
    "        \"limit\": 30\n",
    "    },\n",
    "    \"auth\": AUTH_TOKEN,\n",
    "    \"id\": 1\n",
    "}\n",
    "\n",
    "request = requests.post(CONFIG.get(\"config\", \"api_url\"), json=data)\n",
    "\n",
    "print(len(request.json()[\"result\"]))\n",
    "request.json()"
   ],
   "metadata": {
    "collapsed": false,
    "pycharm": {
     "name": "#%%\n"
    }
   }
  },
  {
   "cell_type": "code",
   "execution_count": 57,
   "outputs": [
    {
     "data": {
      "text/plain": "1675383773"
     },
     "execution_count": 57,
     "metadata": {},
     "output_type": "execute_result"
    }
   ],
   "source": [
    "int(time.time())"
   ],
   "metadata": {
    "collapsed": false,
    "pycharm": {
     "name": "#%%\n"
    }
   }
  },
  {
   "cell_type": "code",
   "execution_count": 58,
   "outputs": [
    {
     "data": {
      "text/plain": "{'jsonrpc': '2.0', 'result': True, 'id': 1}"
     },
     "execution_count": 58,
     "metadata": {},
     "output_type": "execute_result"
    }
   ],
   "source": [
    "# To Logout of the API - comment line 10 of this block to stop it during development.\n",
    "data = {\n",
    "    \"jsonrpc\": \"2.0\",\n",
    "    \"method\": \"user.logout\",\n",
    "    \"params\": [],\n",
    "    \"id\": 1,\n",
    "    \"auth\": AUTH_TOKEN\n",
    "}\n",
    "\n",
    "requests.post(CONFIG.get(\"config\", \"api_url\"), json=data).json()"
   ],
   "metadata": {
    "collapsed": false,
    "pycharm": {
     "name": "#%%\n"
    }
   }
  },
  {
   "cell_type": "code",
   "execution_count": 58,
   "outputs": [],
   "source": [],
   "metadata": {
    "collapsed": false,
    "pycharm": {
     "name": "#%%\n"
    }
   }
  }
 ],
 "metadata": {
  "kernelspec": {
   "display_name": "Python 3",
   "language": "python",
   "name": "python3"
  },
  "language_info": {
   "codemirror_mode": {
    "name": "ipython",
    "version": 2
   },
   "file_extension": ".py",
   "mimetype": "text/x-python",
   "name": "python",
   "nbconvert_exporter": "python",
   "pygments_lexer": "ipython2",
   "version": "2.7.6"
  }
 },
 "nbformat": 4,
 "nbformat_minor": 0
}